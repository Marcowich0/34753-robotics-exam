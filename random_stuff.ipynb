{
 "cells": [
  {
   "cell_type": "markdown",
   "metadata": {},
   "source": []
  },
  {
   "cell_type": "code",
   "execution_count": 8,
   "metadata": {},
   "outputs": [
    {
     "data": {
      "text/latex": [
       "$\\displaystyle \\left[\\begin{matrix}1.99993865\\\\-1.00015641\\\\3.00009506\\end{matrix}\\right]$"
      ],
      "text/plain": [
       "Matrix([\n",
       "[ 1.99993865],\n",
       "[-1.00015641],\n",
       "[ 3.00009506]])"
      ]
     },
     "metadata": {},
     "output_type": "display_data"
    },
    {
     "data": {
      "text/latex": [
       "$\\displaystyle \\left[\\begin{matrix}0 & -3.00009506 & -1.00015641\\\\3.00009506 & 0 & -1.99993865\\\\1.00015641 & 1.99993865 & 0\\end{matrix}\\right]$"
      ],
      "text/plain": [
       "Matrix([\n",
       "[         0, -3.00009506, -1.00015641],\n",
       "[3.00009506,           0, -1.99993865],\n",
       "[1.00015641,  1.99993865,           0]])"
      ]
     },
     "metadata": {},
     "output_type": "display_data"
    },
    {
     "data": {
      "text/latex": [
       "$\\displaystyle \\left[\\begin{matrix}-4.13 & -1.708 & -0.162\\\\-0.818 & -2.656 & -0.526\\\\2.494 & -3.604 & -0.89\\end{matrix}\\right]$"
      ],
      "text/plain": [
       "Matrix([\n",
       "[ -4.13, -1.708, -0.162],\n",
       "[-0.818, -2.656, -0.526],\n",
       "[ 2.494, -3.604,  -0.89]])"
      ]
     },
     "metadata": {},
     "output_type": "display_data"
    }
   ],
   "source": [
    "from functions import *\n",
    "\n",
    "\n",
    "k = sp.Matrix([0.5345,-0.2673,0.8018])\n",
    "theta = 3.7417\n",
    "\n",
    "display(k*theta)\n",
    "\n",
    "\n",
    "display(skew_matrix(k*theta))\n",
    "\n",
    "R = sp.Matrix([\n",
    "    [0.328, -0.737, -0.591],\n",
    "    [0.591, -0.328,  0.737],\n",
    "    [0.737,  0.591, -0.328]\n",
    "])\n",
    "\n",
    "omega_x, omega_y, omega_z = sp.symbols('omega_x omega_y omega_z')\n",
    "omega = sp.Matrix([omega_x, omega_y, omega_z])\n",
    "\n",
    "r_dot = skew_matrix(omega)*R\n",
    "\n",
    "l1 = sp.Eq(r_dot[0,0], -4.130)\n",
    "l2 = sp.Eq(r_dot[0,1], -1.708)\n",
    "l3 = sp.Eq(r_dot[1,0], -0.818)\n",
    "sol = sp.solve([l1, l2, l3], (omega_x, omega_y, omega_z))\n",
    "\n",
    "display(r_dot.subs(sol).evalf(4))"
   ]
  },
  {
   "cell_type": "code",
   "execution_count": 9,
   "metadata": {},
   "outputs": [
    {
     "data": {
      "text/latex": [
       "$\\displaystyle \\left[\\begin{matrix}-34.6\\\\34.6\\\\-193.2\\end{matrix}\\right]$"
      ],
      "text/plain": [
       "Matrix([\n",
       "[ -34.6],\n",
       "[  34.6],\n",
       "[-193.2]])"
      ]
     },
     "metadata": {},
     "output_type": "display_data"
    },
    {
     "data": {
      "text/latex": [
       "$\\displaystyle \\left[\\begin{matrix}-16.84\\\\25.88\\end{matrix}\\right]$"
      ],
      "text/plain": [
       "Matrix([\n",
       "[-16.84],\n",
       "[ 25.88]])"
      ]
     },
     "metadata": {},
     "output_type": "display_data"
    }
   ],
   "source": [
    "\n",
    "R_01 = sp.Matrix([\n",
    "    [0.983,  0.017,  0.183],\n",
    "    [0.017,  0.983, -0.183],\n",
    "    [-0.183, 0.183,  0.966]\n",
    "])\n",
    "\n",
    "omega_01 = sp.Matrix([2, -2, 0])\n",
    "omega_12 = sp.Matrix([0, 0, -200])\n",
    "\n",
    "omega_0 = omega_01 + R_01*omega_12\n",
    "\n",
    "display(omega_0)\n",
    "\n",
    "Jac = sp.Matrix([\n",
    "    [-0.1673,  0.9659],\n",
    "    [ 0.1484, -0.2588],\n",
    "    [0,0],\n",
    "    [      0,       0],\n",
    "    [      0,       0],\n",
    "    [      1,       0]\n",
    "])\n",
    "\n",
    "F = sp.Matrix([0, -100, 0, 0, 0, -2])\n",
    "\n",
    "tau = Jac.T*F\n",
    "display(tau)"
   ]
  },
  {
   "cell_type": "code",
   "execution_count": 14,
   "metadata": {},
   "outputs": [
    {
     "data": {
      "text/latex": [
       "$\\displaystyle c_{0}$"
      ],
      "text/plain": [
       "c0"
      ]
     },
     "metadata": {},
     "output_type": "display_data"
    },
    {
     "data": {
      "text/latex": [
       "$\\displaystyle 55.0$"
      ],
      "text/plain": [
       "55.00"
      ]
     },
     "metadata": {},
     "output_type": "display_data"
    },
    {
     "data": {
      "text/latex": [
       "$\\displaystyle c_{1}$"
      ],
      "text/plain": [
       "c1"
      ]
     },
     "metadata": {},
     "output_type": "display_data"
    },
    {
     "data": {
      "text/latex": [
       "$\\displaystyle -90.0$"
      ],
      "text/plain": [
       "-90.00"
      ]
     },
     "metadata": {},
     "output_type": "display_data"
    },
    {
     "data": {
      "text/latex": [
       "$\\displaystyle c_{2}$"
      ],
      "text/plain": [
       "c2"
      ]
     },
     "metadata": {},
     "output_type": "display_data"
    },
    {
     "data": {
      "text/latex": [
       "$\\displaystyle 60.0$"
      ],
      "text/plain": [
       "60.00"
      ]
     },
     "metadata": {},
     "output_type": "display_data"
    },
    {
     "data": {
      "text/latex": [
       "$\\displaystyle c_{3}$"
      ],
      "text/plain": [
       "c3"
      ]
     },
     "metadata": {},
     "output_type": "display_data"
    },
    {
     "data": {
      "text/latex": [
       "$\\displaystyle -10.0$"
      ],
      "text/plain": [
       "-10.00"
      ]
     },
     "metadata": {},
     "output_type": "display_data"
    }
   ],
   "source": [
    "c0, c1, c2, c3, t = sp.symbols('c0 c1 c2 c3 t')\n",
    "\n",
    "q = c0 + c1*t + c2*t**2 + c3*t**3\n",
    "q_dot = q.diff(t)\n",
    "qf = sp.lambdify(t, q)\n",
    "q_dotf = sp.lambdify(t, q_dot)\n",
    "\n",
    "l1 = sp.Eq(qf(1), 15)\n",
    "l2 = sp.Eq(qf(3), 55)\n",
    "l3 = sp.Eq(q_dotf(1), 0)\n",
    "l4 = sp.Eq(q_dotf(3), 0)\n",
    "sol = sp.solve([l1, l2, l3, l4], (c0, c1, c2, c3))\n",
    "for key, value in sol.items():\n",
    "    display(key, value.evalf(4))"
   ]
  },
  {
   "cell_type": "code",
   "execution_count": null,
   "metadata": {},
   "outputs": [],
   "source": []
  }
 ],
 "metadata": {
  "kernelspec": {
   "display_name": "main",
   "language": "python",
   "name": "python3"
  },
  "language_info": {
   "codemirror_mode": {
    "name": "ipython",
    "version": 3
   },
   "file_extension": ".py",
   "mimetype": "text/x-python",
   "name": "python",
   "nbconvert_exporter": "python",
   "pygments_lexer": "ipython3",
   "version": "3.13.0"
  }
 },
 "nbformat": 4,
 "nbformat_minor": 2
}

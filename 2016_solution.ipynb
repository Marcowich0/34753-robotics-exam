{
 "cells": [
  {
   "cell_type": "markdown",
   "metadata": {},
   "source": [
    "**Problem 1**"
   ]
  },
  {
   "cell_type": "code",
   "execution_count": 33,
   "metadata": {},
   "outputs": [
    {
     "data": {
      "text/latex": [
       "$\\displaystyle \\left[\\begin{matrix}\\theta_{1} & 0 & 0 & \\frac{\\pi}{2}\\\\\\theta_{2} & - l_{1} & l_{2} & 0\\\\\\theta_{3} & 0 & 0 & - \\frac{\\pi}{2}\\\\\\theta_{4} & l_{3} & 0 & \\frac{\\pi}{2}\\\\\\theta_{5} & 0 & 0 & \\frac{\\pi}{2}\\\\\\theta_{6} & l_{4} & 0 & 0\\end{matrix}\\right]$"
      ],
      "text/plain": [
       "Matrix([\n",
       "[theta1,   0,  0,  pi/2],\n",
       "[theta2, -l1, l2,     0],\n",
       "[theta3,   0,  0, -pi/2],\n",
       "[theta4,  l3,  0,  pi/2],\n",
       "[theta5,   0,  0,  pi/2],\n",
       "[theta6,  l4,  0,     0]])"
      ]
     },
     "metadata": {},
     "output_type": "display_data"
    }
   ],
   "source": [
    "%reset -f\n",
    "from functions import *\n",
    "\n",
    "theta1, theta2, theta3, theta4, theta5, theta6 = sp.symbols('theta1 theta2 theta3 theta4 theta5 theta6')\n",
    "l1, l2, l3, l4 = sp.symbols('l1 l2 l3 l4')\n",
    "DH_list = [[theta1, 0,0,pi/2],\n",
    "            [theta2, -l1, l2, 0],\n",
    "            [theta3, 0, 0, -pi/2],\n",
    "            [theta4, l3, 0, pi/2], \n",
    "            [theta5, 0, 0, pi/2],\n",
    "            [theta6, l4, 0, 0]]\n",
    "\n",
    "display(sp.Matrix(DH_list))"
   ]
  },
  {
   "cell_type": "markdown",
   "metadata": {},
   "source": [
    "**Problem 2**"
   ]
  },
  {
   "cell_type": "code",
   "execution_count": 34,
   "metadata": {},
   "outputs": [
    {
     "data": {
      "text/latex": [
       "$\\displaystyle \\left[\\begin{matrix}1 & 0 & 0 & 3\\\\0 & \\frac{\\sqrt{2}}{2} & - \\frac{\\sqrt{2}}{2} & 0\\\\0 & \\frac{\\sqrt{2}}{2} & \\frac{\\sqrt{2}}{2} & 0\\\\0 & 0 & 0 & 1\\end{matrix}\\right]$"
      ],
      "text/plain": [
       "Matrix([\n",
       "[1,         0,          0, 3],\n",
       "[0, sqrt(2)/2, -sqrt(2)/2, 0],\n",
       "[0, sqrt(2)/2,  sqrt(2)/2, 0],\n",
       "[0,         0,          0, 1]])"
      ]
     },
     "metadata": {},
     "output_type": "display_data"
    },
    {
     "data": {
      "text/plain": [
       "{a: 3, alpha: pi/4, d: 0, theta: 0}"
      ]
     },
     "metadata": {},
     "output_type": "display_data"
    }
   ],
   "source": [
    "A = sp.Matrix([ [1,0,0,3],\n",
    "                [0,1/sp.sqrt(2),-1/sp.sqrt(2),0],\n",
    "                [0,1/sp.sqrt(2),1/sp.sqrt(2),0],\n",
    "                [0,0,0,1]])\n",
    "\n",
    "theta_sym, d_sym, a_sym, alpha_sym = sp.symbols('theta d a alpha')\n",
    "\n",
    "peram = find_denevit_hartenberg_perameters_from_transformation(A)\n",
    "display(A)\n",
    "display(peram)"
   ]
  },
  {
   "cell_type": "markdown",
   "metadata": {},
   "source": [
    "**Problem 5**"
   ]
  },
  {
   "attachments": {
    "image.png": {
     "image/png": "[encoded data removed]"
    }
   },
   "cell_type": "markdown",
   "metadata": {},
   "source": [
    "![image.png](attachment:image.png)"
   ]
  },
  {
   "cell_type": "code",
   "execution_count": null,
   "metadata": {},
   "outputs": [
    {
     "data": {
      "text/latex": [
       "$\\displaystyle \\frac{- 1.0 D + 1.0 K_{d} qr s + 1.0 K_{p} qr + 3.0 qr s + 0.45 qr}{1.0 K_{d} s + 1.0 K_{p} + 3.0 s + 0.5}$"
      ],
      "text/plain": [
       "(-1.0*D + 1.0*K_d*qr*s + 1.0*K_p*qr + 3.0*qr*s + 0.45*qr)/(1.0*K_d*s + 1.0*K_p + 3.0*s + 0.5)"
      ]
     },
     "metadata": {},
     "output_type": "display_data"
    },
    {
     "data": {
      "text/latex": [
       "$\\displaystyle - \\frac{2.0 K_{d} + \\frac{2.0 K_{p}}{s} + 6.0 + \\frac{0.7}{s}}{1.0 K_{d} s + 1.0 K_{p} + 3.0 s + 0.5} + \\frac{2}{s}$"
      ],
      "text/plain": [
       "-(2.0*K_d + 2.0*K_p/s + 6.0 + 0.7/s)/(1.0*K_d*s + 1.0*K_p + 3.0*s + 0.5) + 2/s"
      ]
     },
     "metadata": {},
     "output_type": "display_data"
    },
    {
     "name": "stdout",
     "output_type": "stream",
     "text": [
      "Steady state error:\n"
     ]
    },
    {
     "data": {
      "text/latex": [
       "$\\displaystyle \\frac{3}{10 K_{p} + 5}$"
      ],
      "text/plain": [
       "3/(10*K_p + 5)"
      ]
     },
     "metadata": {},
     "output_type": "display_data"
    },
    {
     "name": "stdout",
     "output_type": "stream",
     "text": [
      "Kp:\n"
     ]
    },
    {
     "data": {
      "text/latex": [
       "$\\displaystyle 29.5$"
      ],
      "text/plain": [
       "29.5000000000000"
      ]
     },
     "metadata": {},
     "output_type": "display_data"
    }
   ],
   "source": [
    "%reset -f\n",
    "from functions import *\n",
    "\n",
    "# Variables\n",
    "qr, q, T1, T2, T3, D = sp.symbols('qr q T1 T2 T3 D')\n",
    "x1, x2 = sp.symbols('x1 x2')\n",
    "s = sp.symbols('s')\n",
    "Kp, Kd = sp.symbols('K_p K_d')\n",
    "\n",
    "# Blocks from diagram\n",
    "T1 = 3*s + 0.45\n",
    "T2 = Kp + Kd*s\n",
    "T3 = 1/(3*s+0.5)\n",
    "\n",
    "# Equation from nodes\n",
    "eq1 = sp.Eq(x1, qr - q)\n",
    "eq2 = sp.Eq(x2, x1*T2 + qr*T1 - D)\n",
    "eq3 = sp.Eq(q, x2*T3)\n",
    "sol = sp.solve([eq1, eq2, eq3], (q, x1, x2))\n",
    "\n",
    "q = Normalize_fraction(sol[q].simplify() , 20)\n",
    "display(q)\n",
    "\n",
    "\n",
    "# Steady state error\n",
    "input = qr\n",
    "output = q\n",
    "error = (input - output).subs({D:0.2/s, qr:2/s})\n",
    "display((error))\n",
    "\n",
    "Ess = sp.limit(error*s, s, 0)\n",
    "print(f\"Steady state error:\")\n",
    "display(Ess)\n",
    "\n",
    "Kp = sp.solve(sp.Eq(Ess, 0.01), Kp)[0]\n",
    "print(f\"Kp:\")\n",
    "display(Kp)\n"
   ]
  }
 ],
 "metadata": {
  "kernelspec": {
   "display_name": "robotics",
   "language": "python",
   "name": "python3"
  },
  "language_info": {
   "codemirror_mode": {
    "name": "ipython",
    "version": 3
   },
   "file_extension": ".py",
   "mimetype": "text/x-python",
   "name": "python",
   "nbconvert_exporter": "python",
   "pygments_lexer": "ipython3",
   "version": "3.12.7"
  }
 },
 "nbformat": 4,
 "nbformat_minor": 2
}

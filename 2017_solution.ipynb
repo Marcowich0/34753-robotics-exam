{
 "cells": [
  {
   "cell_type": "markdown",
   "metadata": {},
   "source": [
    "**Problem 1**"
   ]
  },
  {
   "cell_type": "code",
   "execution_count": 8,
   "metadata": {},
   "outputs": [
    {
     "data": {
      "text/latex": [
       "$\\displaystyle \\left[\\begin{matrix}0 & - \\frac{1}{2} & \\frac{\\sqrt{3}}{2} & 0\\\\1 & 0 & 0 & 2\\\\0 & \\frac{\\sqrt{3}}{2} & \\frac{1}{2} & 0\\\\0 & 0 & 0 & 1\\end{matrix}\\right]$"
      ],
      "text/plain": [
       "Matrix([\n",
       "[0,      -1/2, sqrt(3)/2, 0],\n",
       "[1,         0,         0, 2],\n",
       "[0, sqrt(3)/2,       1/2, 0],\n",
       "[0,         0,         0, 1]])"
      ]
     },
     "metadata": {},
     "output_type": "display_data"
    },
    {
     "data": {
      "text/plain": [
       "{a: 2, alpha: pi/3, d: 0, theta: pi/2}"
      ]
     },
     "metadata": {},
     "output_type": "display_data"
    }
   ],
   "source": [
    "%reset -f\n",
    "from functions import *\n",
    "\n",
    "T = sp.Matrix([\n",
    "    [0, -sp.Rational(1,2), sp.sqrt(3)/2, 0],\n",
    "    [1, 0, 0, 2],\n",
    "    [0, sp.sqrt(3)/2, sp.Rational(1,2), 0],\n",
    "    [0, 0, 0, 1]\n",
    "])\n",
    "\n",
    "display(T)\n",
    "\n",
    "peram = find_denevit_hartenberg_perameters_from_transformation(T)\n",
    "display(peram)\n"
   ]
  },
  {
   "cell_type": "markdown",
   "metadata": {},
   "source": [
    "**Problem 2**"
   ]
  },
  {
   "cell_type": "code",
   "execution_count": 9,
   "metadata": {},
   "outputs": [
    {
     "name": "stdout",
     "output_type": "stream",
     "text": [
      "From system 2 to system 1\n"
     ]
    },
    {
     "data": {
      "text/latex": [
       "$\\displaystyle \\left[\\begin{matrix}0 & 0 & -1 & A\\\\1 & 0 & 0 & 0\\\\0 & -1 & 0 & 0\\\\0 & 0 & 0 & 1\\end{matrix}\\right]$"
      ],
      "text/plain": [
       "Matrix([\n",
       "[0,  0, -1, A],\n",
       "[1,  0,  0, 0],\n",
       "[0, -1,  0, 0],\n",
       "[0,  0,  0, 1]])"
      ]
     },
     "metadata": {},
     "output_type": "display_data"
    },
    {
     "name": "stdout",
     "output_type": "stream",
     "text": [
      "From system 3 to system 2\n"
     ]
    },
    {
     "data": {
      "text/latex": [
       "$\\displaystyle \\left[\\begin{matrix}0 & -1 & 0 & C\\\\1 & 0 & 0 & - B\\\\0 & 0 & 1 & 0\\\\0 & 0 & 0 & 1\\end{matrix}\\right]$"
      ],
      "text/plain": [
       "Matrix([\n",
       "[0, -1, 0,  C],\n",
       "[1,  0, 0, -B],\n",
       "[0,  0, 1,  0],\n",
       "[0,  0, 0,  1]])"
      ]
     },
     "metadata": {},
     "output_type": "display_data"
    },
    {
     "name": "stdout",
     "output_type": "stream",
     "text": [
      "From system 3 to system 1\n"
     ]
    },
    {
     "data": {
      "text/latex": [
       "$\\displaystyle \\left[\\begin{matrix}0 & 0 & -1 & A\\\\0 & -1 & 0 & C\\\\-1 & 0 & 0 & B\\\\0 & 0 & 0 & 1\\end{matrix}\\right]$"
      ],
      "text/plain": [
       "Matrix([\n",
       "[ 0,  0, -1, A],\n",
       "[ 0, -1,  0, C],\n",
       "[-1,  0,  0, B],\n",
       "[ 0,  0,  0, 1]])"
      ]
     },
     "metadata": {},
     "output_type": "display_data"
    }
   ],
   "source": [
    "%reset -f\n",
    "from functions import *\n",
    "\n",
    "A, B, C = sp.symbols('A B C')\n",
    "\n",
    "T_12  =  Tranlation_matrix([A,0,0])  *  Rotation_matrix(-90, 'x', deg=True)  *  Rotation_matrix(-90, 'y', deg=True)\n",
    "print(\"From system 2 to system 1\")\n",
    "display(T_12)\n",
    "\n",
    "T_23  =  Tranlation_matrix([C,-B,0])  *  Rotation_matrix(90, 'z', deg=True) \n",
    "print(\"From system 3 to system 2\")\n",
    "display(T_23)\n",
    "\n",
    "T_13 = T_12 * T_23\n",
    "print(\"From system 3 to system 1\")\n",
    "display(T_13)\n"
   ]
  },
  {
   "cell_type": "markdown",
   "metadata": {},
   "source": [
    "**Problem 3**"
   ]
  },
  {
   "cell_type": "code",
   "execution_count": 10,
   "metadata": {},
   "outputs": [
    {
     "data": {
      "text/latex": [
       "$\\displaystyle \\begin{cases} 10 \\sin{\\left(\\pi t \\right)} & \\text{for}\\: t \\leq 2 \\\\0 & \\text{for}\\: t \\geq 2 \\wedge t \\leq 3 \\\\- 10 \\sin{\\left(\\pi \\left(t - 3\\right) \\right)} & \\text{for}\\: t \\geq 3 \\wedge t \\leq 5 \\end{cases}$"
      ],
      "text/plain": [
       "Piecewise((10*sin(pi*t), t <= 2), (0, (t >= 2) & (t <= 3)), (-10*sin(pi*(t - 3)), (t >= 3) & (t <= 5)))"
      ]
     },
     "metadata": {},
     "output_type": "display_data"
    },
    {
     "data": {
      "text/plain": [
       "{c1: 10/pi, c2: 0, c3: -10/pi**3}"
      ]
     },
     "metadata": {},
     "output_type": "display_data"
    },
    {
     "data": {
      "image/png": "[encoded data removed]",
      "text/plain": [
       "<Figure size 640x480 with 1 Axes>"
      ]
     },
     "metadata": {},
     "output_type": "display_data"
    },
    {
     "data": {
      "image/png": "[encoded data removed]",
      "text/plain": [
       "<Figure size 640x480 with 1 Axes>"
      ]
     },
     "metadata": {},
     "output_type": "display_data"
    },
    {
     "name": "stdout",
     "output_type": "stream",
     "text": [
      "Maxima: 2.02 with value: 20/pi = 6.366\n",
      "Minima: 0 with value: 0 = 0\n",
      "position at t=2 is 6.36619772367581\n",
      "position at T + 2: 19.0985931710274\n"
     ]
    }
   ],
   "source": [
    "%reset -f\n",
    "from functions import *\n",
    "\n",
    "s_0 = 0\n",
    "v_0 = 0\n",
    "a_0 = 0\n",
    "\n",
    "t, T = sp.symbols('t, T', real=True, positive=True)\n",
    "c1, c2, c3 = sp.symbols('c1 c2 c3')\n",
    "\n",
    "T=3\n",
    "j = sp.Piecewise((10*sin(pi*t), sp.Interval(0,2).contains(t)), \n",
    "                 (0, sp.Interval(2,T).contains(t)),\n",
    "                 (10*sin(pi + pi*(t-T)), sp.Interval(T,T+2).contains(t)))\n",
    "\n",
    "display(j)\n",
    "\n",
    "a = sp.integrate(j, t) + c1\n",
    "v = sp.integrate(a, t) + c2\n",
    "s = sp.integrate(v, t) + c3\n",
    "\n",
    "constants = sp.solve([s.subs(t,0) - s_0, v.subs(t,0) - v_0, a.subs(t,0) - a_0], (c1, c2, c3))\n",
    "display(constants)\n",
    "\n",
    "a, v, s = a.subs(constants), v.subs(constants), s.subs(constants)\n",
    "\n",
    "domain = sp.Interval(0, T+2)\n",
    "\n",
    "# Plot the velocity function\n",
    "v_plot = sp.plot((v, (t, domain.start, domain.end)), show=True, line_color='r', title='Velocity')\n",
    "s_plot = sp.plot((s, (t, domain.start, domain.end)), show=True, line_color='b', title='Position')\n",
    "\n",
    "def Find_maxmin_in_function(f, var, domain):\n",
    "\n",
    "    all_points = np.linspace(domain.start, domain.end, 100)\n",
    "    # Evaluate f(t) at all points to find the maximum value\n",
    "    v_values = [f.subs(var, point) for point in all_points]\n",
    "\n",
    "    max = f.subs(var, all_points[np.argmax(v_values)])\n",
    "    min = f.subs(var, all_points[np.argmin(v_values)])\n",
    "    print(f\"Maxima: { all_points[np.argmax(v_values)].evalf(3) } with value: {max} = {max.evalf(4)}\")\n",
    "    print(f\"Minima: { all_points[np.argmin(v_values)].evalf(3) } with value: {min} = {min.evalf(4)}\")\n",
    "\n",
    "    return all_points[np.argmax(v_values)], np.max(v_values), all_points[np.argmin(v_values)], np.min(v_values)\n",
    "\n",
    "\n",
    "vals = Find_maxmin_in_function(v,t,domain)\n",
    "\n",
    "print(f\"position at t=2 is {s.subs(t,2).evalf()}\")\n",
    "\n",
    "print(f\"position at T + 2: {s.subs(t,T+2).evalf()}\")"
   ]
  },
  {
   "cell_type": "markdown",
   "metadata": {},
   "source": [
    "**Problem 4**"
   ]
  },
  {
   "cell_type": "code",
   "execution_count": 11,
   "metadata": {},
   "outputs": [
    {
     "name": "stdout",
     "output_type": "stream",
     "text": [
      "Transformation matrix from task to base\n"
     ]
    },
    {
     "data": {
      "text/latex": [
       "$\\displaystyle \\left[\\begin{matrix}0.7071 & -0.7071 & 0 & 0.3\\\\0.7071 & 0.7071 & 0 & 0.2\\\\0 & 0 & 1.0 & 0.1\\\\0 & 0 & 0 & 1.0\\end{matrix}\\right]$"
      ],
      "text/plain": [
       "Matrix([\n",
       "[0.7071, -0.7071,   0, 0.3],\n",
       "[0.7071,  0.7071,   0, 0.2],\n",
       "[     0,       0, 1.0, 0.1],\n",
       "[     0,       0,   0, 1.0]])"
      ]
     },
     "metadata": {},
     "output_type": "display_data"
    },
    {
     "name": "stdout",
     "output_type": "stream",
     "text": [
      "P0 in camera frame\n"
     ]
    },
    {
     "data": {
      "text/latex": [
       "$\\displaystyle \\left[\\begin{matrix}0.1\\\\0.2\\\\1.0\\end{matrix}\\right]$"
      ],
      "text/plain": [
       "Matrix([\n",
       "[0.1],\n",
       "[0.2],\n",
       "[1.0]])"
      ]
     },
     "metadata": {},
     "output_type": "display_data"
    },
    {
     "data": {
      "text/latex": [
       "$\\displaystyle \\left[\\begin{matrix}0.1\\\\-0.3\\\\1.0\\end{matrix}\\right]$"
      ],
      "text/plain": [
       "Matrix([\n",
       "[ 0.1],\n",
       "[-0.3],\n",
       "[ 1.0]])"
      ]
     },
     "metadata": {},
     "output_type": "display_data"
    },
    {
     "data": {
      "text/latex": [
       "$\\displaystyle \\left[\\begin{matrix}-0.2\\\\0.2\\\\1.0\\end{matrix}\\right]$"
      ],
      "text/plain": [
       "Matrix([\n",
       "[-0.2],\n",
       "[ 0.2],\n",
       "[ 1.0]])"
      ]
     },
     "metadata": {},
     "output_type": "display_data"
    },
    {
     "name": "stdout",
     "output_type": "stream",
     "text": [
      "Transformation matrix from task to camera\n"
     ]
    },
    {
     "data": {
      "text/latex": [
       "$\\displaystyle \\left[\\begin{matrix}0 & -1.0 & 0 & 0.1\\\\-1.0 & 0 & 0 & 0.2\\\\0 & 0 & -1.0 & 1.0\\\\0 & 0 & 0 & 1.0\\end{matrix}\\right]$"
      ],
      "text/plain": [
       "Matrix([\n",
       "[   0, -1.0,    0, 0.1],\n",
       "[-1.0,    0,    0, 0.2],\n",
       "[   0,    0, -1.0, 1.0],\n",
       "[   0,    0,    0, 1.0]])"
      ]
     },
     "metadata": {},
     "output_type": "display_data"
    },
    {
     "name": "stdout",
     "output_type": "stream",
     "text": [
      "New point in base frame\n"
     ]
    },
    {
     "data": {
      "text/latex": [
       "$\\displaystyle \\left[\\begin{matrix}0.5121\\\\0.6101\\\\0.1\\\\1.0\\end{matrix}\\right]$"
      ],
      "text/plain": [
       "Matrix([\n",
       "[0.5121],\n",
       "[0.6101],\n",
       "[   0.1],\n",
       "[   1.0]])"
      ]
     },
     "metadata": {},
     "output_type": "display_data"
    }
   ],
   "source": [
    "%reset -f\n",
    "from functions import *\n",
    "P0 = sp.Matrix([0.3000,0.2000,0.1000])\n",
    "Px = sp.Matrix([0.6536,0.5536,0.1000])\n",
    "Py = sp.Matrix([0.0879,0.4121,0.1000])\n",
    "\n",
    "T_bt = Transformation_matrix_from_3_points(P0, Px, Py)\n",
    "print(\"Transformation matrix from task to base\")\n",
    "display(T_bt)\n",
    "\n",
    "\n",
    "pp = sp.Matrix([320, 240])\n",
    "fx = fy = 500\n",
    "\n",
    "Pp0 = sp.Matrix([270, 140])\n",
    "Ppx = sp.Matrix([270, 390])\n",
    "Ppy = sp.Matrix([420, 140])\n",
    "\n",
    "z_bcam = 1\n",
    "\n",
    "x0, y0, xx, xy, yx, yy = sp.symbols('x0, y0, xx, xy, yx, yy')\n",
    "\n",
    "eq1 = sp.Eq(Pp0[0] , -fx*x0/z_bcam + pp[0])\n",
    "eq2 = sp.Eq(Pp0[1] , -fy*y0/z_bcam + pp[1])\n",
    "eq3 = sp.Eq(Ppx[0] , -fx*xx/z_bcam + pp[0])\n",
    "eq4 = sp.Eq(Ppx[1] , -fy*xy/z_bcam + pp[1])\n",
    "eq5 = sp.Eq(Ppy[0] , -fx*yx/z_bcam + pp[0])\n",
    "eq6 = sp.Eq(Ppy[1] , -fy*yy/z_bcam + pp[1])\n",
    "\n",
    "sol = sp.solve((eq1, eq2, eq3, eq4, eq5, eq6))\n",
    "print(\"P0 in camera frame\")\n",
    "P0_cam = sp.Matrix([sol[x0], sol[y0], z_bcam])\n",
    "Px_cam = sp.Matrix([sol[xx], sol[xy], z_bcam])\n",
    "Py_cam = sp.Matrix([sol[yx], sol[yy], z_bcam])\n",
    "display(P0_cam.evalf())\n",
    "display(Px_cam.evalf())\n",
    "display(Py_cam.evalf())\n",
    "\n",
    "T_ct = Transformation_matrix_from_3_points(P0_cam, Px_cam, Py_cam)\n",
    "\n",
    "print(\"Transformation matrix from task to camera\")\n",
    "display(T_ct)\n",
    "\n",
    "Pnewp_cam = sp.Matrix([340, 360])\n",
    "xnew, ynew = sp.symbols('xnew ynew')\n",
    "eq7 = sp.Eq(Pnewp_cam[0] , -fx*xnew/z_bcam + pp[0])\n",
    "eq8 = sp.Eq(Pnewp_cam[1] , -fy*ynew/z_bcam + pp[1])\n",
    "sol_new = sp.solve((eq7, eq8))\n",
    "Pnew_cam = sp.Matrix([sol_new[xnew], sol_new[ynew], z_bcam, 1])\n",
    "\n",
    "T_bc = T_bt * T_ct.inv()\n",
    "Pnew_b = T_bc * Pnew_cam\n",
    "\n",
    "print(\"New point in base frame\")\n",
    "display(Pnew_b)\n"
   ]
  },
  {
   "cell_type": "markdown",
   "metadata": {},
   "source": [
    "**Problem 5**"
   ]
  },
  {
   "attachments": {
    "image.png": {
     "image/png": "[encoded data removed]"
    }
   },
   "cell_type": "markdown",
   "metadata": {},
   "source": [
    "![image.png](attachment:image.png)"
   ]
  },
  {
   "cell_type": "code",
   "execution_count": 14,
   "metadata": {},
   "outputs": [
    {
     "data": {
      "text/latex": [
       "$\\displaystyle \\frac{- 100.0 D s + 30.0 q_{r} s + 3.0 q_{r}}{200.0 s^{3} + 100.0 s^{2} + 30.0 s + 3.0}$"
      ],
      "text/plain": [
       "(-100.0*D*s + 30.0*q_r*s + 3.0*q_r)/(200.0*s**3 + 100.0*s**2 + 30.0*s + 3.0)"
      ]
     },
     "metadata": {},
     "output_type": "display_data"
    },
    {
     "name": "stdout",
     "output_type": "stream",
     "text": [
      "Normalized Transfer Function:\n"
     ]
    },
    {
     "data": {
      "text/latex": [
       "$\\displaystyle \\frac{- 0.5 D s + 0.15 q_{r} s + 0.015 q_{r}}{1.0 s^{3} + 0.5 s^{2} + 0.15 s + 0.015}$"
      ],
      "text/plain": [
       "(-0.5*D*s + 0.15*q_r*s + 0.015*q_r)/(1.0*s**3 + 0.5*s**2 + 0.15*s + 0.015)"
      ]
     },
     "metadata": {},
     "output_type": "display_data"
    },
    {
     "data": {
      "text/latex": [
       "$\\displaystyle - \\frac{35.0 + \\frac{4.5}{s}}{200.0 s^{3} + 100.0 s^{2} + 30.0 s + 3.0} + \\frac{1.5}{s}$"
      ],
      "text/plain": [
       "-(35.0 + 4.5/s)/(200.0*s**3 + 100.0*s**2 + 30.0*s + 3.0) + 1.5/s"
      ]
     },
     "metadata": {},
     "output_type": "display_data"
    },
    {
     "name": "stdout",
     "output_type": "stream",
     "text": [
      "Steady state error: 0\n"
     ]
    }
   ],
   "source": [
    "%reset -f\n",
    "from functions import *\n",
    "kp = 0.3\n",
    "ki = 0.03\n",
    "\n",
    "qr, q, T1, T2, D = sp.symbols('q_r q T1 T2 D')\n",
    "x1, x2 = sp.symbols('x1 x2')\n",
    "transfer = sp.symbols('Trans')\n",
    "\n",
    "s = sp.symbols('s')\n",
    "T1 = (kp*s+ki)/s\n",
    "T2 = 1/(2*s**2+s)\n",
    "\n",
    "\n",
    "eq1 = sp.Eq(x1, qr - q)\n",
    "eq2 = sp.Eq(x2, x1*T1 - D)\n",
    "eq3 = sp.Eq(q, x2*T2)\n",
    "eq4 = sp.Eq(transfer, q/qr)\n",
    "\n",
    "sol = sp.solve((eq1, eq2, eq3, eq4), (x1, x2, q, transfer))\n",
    "q = sol[q].simplify()\n",
    "\n",
    "display(q)\n",
    "print(\"Normalized Transfer Function:\")\n",
    "display(Normalize_fraction(q, 200))\n",
    "\n",
    "# Steady state error\n",
    "input = qr\n",
    "output = q\n",
    "error = (input - output).subs({D:0.1/s, qr:1.5/s})\n",
    "display((error))\n",
    "Ess = sp.limit((input - output)*s, s, 0)\n",
    "\n",
    "print(f\"Steady state error: {Ess}\")\n",
    "\n",
    "\n"
   ]
  }
 ],
 "metadata": {
  "kernelspec": {
   "display_name": "main",
   "language": "python",
   "name": "python3"
  },
  "language_info": {
   "codemirror_mode": {
    "name": "ipython",
    "version": 3
   },
   "file_extension": ".py",
   "mimetype": "text/x-python",
   "name": "python",
   "nbconvert_exporter": "python",
   "pygments_lexer": "ipython3",
   "version": "3.13.0"
  }
 },
 "nbformat": 4,
 "nbformat_minor": 2
}

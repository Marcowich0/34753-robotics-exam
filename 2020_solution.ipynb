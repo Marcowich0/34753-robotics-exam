{
 "cells": [
  {
   "cell_type": "markdown",
   "metadata": {},
   "source": [
    "Problem 1"
   ]
  },
  {
   "cell_type": "code",
   "execution_count": 1,
   "metadata": {},
   "outputs": [
    {
     "data": {
      "text/plain": [
       "60"
      ]
     },
     "metadata": {},
     "output_type": "display_data"
    },
    {
     "data": {
      "text/latex": [
       "$\\displaystyle 400$"
      ],
      "text/plain": [
       "400"
      ]
     },
     "metadata": {},
     "output_type": "display_data"
    },
    {
     "data": {
      "text/latex": [
       "$\\displaystyle 100 \\sqrt{3}$"
      ],
      "text/plain": [
       "100*sqrt(3)"
      ]
     },
     "metadata": {},
     "output_type": "display_data"
    },
    {
     "data": {
      "text/plain": [
       "-90"
      ]
     },
     "metadata": {},
     "output_type": "display_data"
    },
    {
     "data": {
      "text/latex": [
       "$\\displaystyle \\left[\\begin{matrix}\\frac{1}{2} & 0 & - \\frac{\\sqrt{3}}{2} & 50 \\sqrt{3}\\\\\\frac{\\sqrt{3}}{2} & 0 & \\frac{1}{2} & 150\\\\0 & -1 & 0 & 400\\\\0 & 0 & 0 & 1\\end{matrix}\\right]$"
      ],
      "text/plain": [
       "Matrix([\n",
       "[      1/2,  0, -sqrt(3)/2, 50*sqrt(3)],\n",
       "[sqrt(3)/2,  0,        1/2,        150],\n",
       "[        0, -1,          0,        400],\n",
       "[        0,  0,          0,          1]])"
      ]
     },
     "metadata": {},
     "output_type": "display_data"
    },
    {
     "data": {
      "text/latex": [
       "$\\displaystyle \\left[\\begin{matrix}0.5 & 0 & -0.866 & 86.6\\\\0.866 & 0 & 0.5 & 150.0\\\\0 & -1.0 & 0 & 400.0\\\\0 & 0 & 0 & 1.0\\end{matrix}\\right]$"
      ],
      "text/plain": [
       "Matrix([\n",
       "[  0.5,    0, -0.866,  86.6],\n",
       "[0.866,    0,    0.5, 150.0],\n",
       "[    0, -1.0,      0, 400.0],\n",
       "[    0,    0,      0,   1.0]])"
      ]
     },
     "metadata": {},
     "output_type": "display_data"
    }
   ],
   "source": [
    "%reset -f\n",
    "from functions import *\n",
    "\n",
    "l = sp.Integer(200)\n",
    "h = sp.Integer(400)\n",
    "\n",
    "theta = 60\n",
    "d = h\n",
    "a = sp.sqrt(l**2 - (l/2)**2)\n",
    "alpha = -90\n",
    "\n",
    "display(theta, d, a, alpha)\n",
    "\n",
    "T = transformation_from_denavit_hartenberg([[theta, d, a, alpha]], deg=True)\n",
    "display(T)\n",
    "display(T.evalf(3))"
   ]
  },
  {
   "cell_type": "markdown",
   "metadata": {},
   "source": [
    "Problem 2"
   ]
  },
  {
   "cell_type": "code",
   "execution_count": 11,
   "metadata": {},
   "outputs": [
    {
     "name": "stdout",
     "output_type": "stream",
     "text": [
      "Denavit-Hartenberg parameters:\n"
     ]
    },
    {
     "data": {
      "text/latex": [
       "$\\displaystyle \\left[\\begin{matrix}\\theta_{1}{\\left(t \\right)} & 100 & 0 & \\frac{\\pi}{2}\\\\\\frac{\\pi}{2} & d_{2}{\\left(t \\right)} & 0 & \\frac{\\pi}{2}\\\\\\theta_{3}{\\left(t \\right)} & 0 & 60 & \\frac{\\pi}{2}\\\\\\theta_{4}{\\left(t \\right)} & 0 & 0 & \\frac{\\pi}{2}\\end{matrix}\\right]$"
      ],
      "text/plain": [
       "Matrix([\n",
       "[theta1(t),   100,  0, pi/2],\n",
       "[     pi/2, d2(t),  0, pi/2],\n",
       "[theta3(t),     0, 60, pi/2],\n",
       "[theta4(t),     0,  0, pi/2]])"
      ]
     },
     "metadata": {},
     "output_type": "display_data"
    },
    {
     "name": "stdout",
     "output_type": "stream",
     "text": [
      "Transformation matrix with: theta1, d2, theta3, theta4 = [0.75*pi, 200, pi/4, -pi/3]\n"
     ]
    },
    {
     "data": {
      "text/latex": [
       "$\\displaystyle \\left[\\begin{matrix}0.8624 & -0.5 & -0.07946 & 171.4\\\\-0.3624 & -0.5 & -0.7866 & 171.4\\\\0.3536 & 0.7071 & -0.6124 & 142.4\\\\0 & 0 & 0 & 1.0\\end{matrix}\\right]$"
      ],
      "text/plain": [
       "Matrix([\n",
       "[ 0.8624,   -0.5, -0.07946, 171.4],\n",
       "[-0.3624,   -0.5,  -0.7866, 171.4],\n",
       "[ 0.3536, 0.7071,  -0.6124, 142.4],\n",
       "[      0,      0,        0,   1.0]])"
      ]
     },
     "metadata": {},
     "output_type": "display_data"
    },
    {
     "name": "stdout",
     "output_type": "stream",
     "text": [
      "Jacobian matrix:\n"
     ]
    },
    {
     "data": {
      "text/latex": [
       "$\\displaystyle \\left[\\begin{matrix}-171.4 & 30.0 & 30.0 & 0\\\\171.4 & -30.0 & 30.0 & 0\\\\0 & 0 & -42.43 & 0\\\\0 & 0.7071 & -0.7071 & -0.5\\\\0 & 0.7071 & 0.7071 & -0.5\\\\1.0 & 0 & 0 & 0.7071\\end{matrix}\\right]$"
      ],
      "text/plain": [
       "Matrix([\n",
       "[-171.4,   30.0,    30.0,      0],\n",
       "[ 171.4,  -30.0,    30.0,      0],\n",
       "[     0,      0,  -42.43,      0],\n",
       "[     0, 0.7071, -0.7071,   -0.5],\n",
       "[     0, 0.7071,  0.7071,   -0.5],\n",
       "[   1.0,      0,       0, 0.7071]])"
      ]
     },
     "metadata": {},
     "output_type": "display_data"
    },
    {
     "name": "stdout",
     "output_type": "stream",
     "text": [
      "Linear and angular velocity:\n"
     ]
    },
    {
     "data": {
      "text/latex": [
       "$\\displaystyle \\left[\\begin{matrix}-1.346\\\\1.346\\\\0\\\\0\\\\0\\\\0.007854\\end{matrix}\\right]$"
      ],
      "text/plain": [
       "Matrix([\n",
       "[  -1.346],\n",
       "[   1.346],\n",
       "[       0],\n",
       "[       0],\n",
       "[       0],\n",
       "[0.007854]])"
      ]
     },
     "metadata": {},
     "output_type": "display_data"
    }
   ],
   "source": [
    "%reset -f\n",
    "from functions import *\n",
    "\n",
    "t = sp.symbols('t', real = True, positive = True)\n",
    "theta1, d2, theta3, theta4 = [sp.Function(name)(t) for name in ['theta1', 'd2', 'theta3', 'theta4']]\n",
    "\n",
    "DH_list = [[theta1,100,0,pi/2],[pi/2,d2,0,pi/2],[theta3,0,60,pi/2],[theta4,0,0,pi/2]]\n",
    "print('Denavit-Hartenberg parameters:')\n",
    "display(sp.Matrix(DH_list))\n",
    "\n",
    "values = {theta1:135/180*pi, d2:200, theta3:pi/4, theta4:-pi/3}\n",
    "\n",
    "T = transformation_from_denavit_hartenberg(DH_list)\n",
    "print(f\"Transformation matrix with: theta1, d2, theta3, theta4 = {list(values.values())}\")\n",
    "display(T.evalf(4,subs=values))\n",
    "\n",
    "Jacobian = Jacobian_from_denavit_hartenberg(DH_list)\n",
    "print('Jacobian matrix:')\n",
    "display(Jacobian.evalf(4,subs=values))\n",
    "\n",
    "q_dot = sp.Matrix([0.0025*pi , 0 , 0 , 0])\n",
    "v_omega = Jacobian*q_dot\n",
    "print('Linear and angular velocity:')\n",
    "display(v_omega.evalf(4,subs=values))"
   ]
  }
 ],
 "metadata": {
  "kernelspec": {
   "display_name": "main",
   "language": "python",
   "name": "python3"
  },
  "language_info": {
   "codemirror_mode": {
    "name": "ipython",
    "version": 3
   },
   "file_extension": ".py",
   "mimetype": "text/x-python",
   "name": "python",
   "nbconvert_exporter": "python",
   "pygments_lexer": "ipython3",
   "version": "3.13.0"
  }
 },
 "nbformat": 4,
 "nbformat_minor": 2
}

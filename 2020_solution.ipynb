{
 "cells": [
  {
   "cell_type": "markdown",
   "metadata": {},
   "source": [
    "**Problem 1**"
   ]
  },
  {
   "cell_type": "code",
   "execution_count": 1,
   "metadata": {},
   "outputs": [
    {
     "name": "stdout",
     "output_type": "stream",
     "text": [
      "theta, d, a, alpha = (60, 400, 100*sqrt(3), -90) \n",
      "\n",
      "Transformation matrix:\n"
     ]
    },
    {
     "data": {
      "text/latex": [
       "$\\displaystyle \\left[\\begin{matrix}\\frac{1}{2} & 0 & - \\frac{\\sqrt{3}}{2} & 50 \\sqrt{3}\\\\\\frac{\\sqrt{3}}{2} & 0 & \\frac{1}{2} & 150\\\\0 & -1 & 0 & 400\\\\0 & 0 & 0 & 1\\end{matrix}\\right]$"
      ],
      "text/plain": [
       "Matrix([\n",
       "[      1/2,  0, -sqrt(3)/2, 50*sqrt(3)],\n",
       "[sqrt(3)/2,  0,        1/2,        150],\n",
       "[        0, -1,          0,        400],\n",
       "[        0,  0,          0,          1]])"
      ]
     },
     "metadata": {},
     "output_type": "display_data"
    },
    {
     "data": {
      "text/latex": [
       "$\\displaystyle \\left[\\begin{matrix}0.5 & 0 & -0.866 & 86.6\\\\0.866 & 0 & 0.5 & 150.0\\\\0 & -1.0 & 0 & 400.0\\\\0 & 0 & 0 & 1.0\\end{matrix}\\right]$"
      ],
      "text/plain": [
       "Matrix([\n",
       "[  0.5,    0, -0.866,  86.6],\n",
       "[0.866,    0,    0.5, 150.0],\n",
       "[    0, -1.0,      0, 400.0],\n",
       "[    0,    0,      0,   1.0]])"
      ]
     },
     "metadata": {},
     "output_type": "display_data"
    }
   ],
   "source": [
    "%reset -f\n",
    "from functions import *\n",
    "\n",
    "l = sp.Integer(200)\n",
    "h = sp.Integer(400)\n",
    "\n",
    "theta = 60\n",
    "d = h\n",
    "a = sp.sqrt(l**2 - (l/2)**2)\n",
    "alpha = -90\n",
    "\n",
    "print(f\"theta, d, a, alpha = {theta, d, a, alpha} \\n\")\n",
    "\n",
    "T = transformation_from_denavit_hartenberg([[theta, d, a, alpha]], deg=True)\n",
    "print(\"Transformation matrix:\")\n",
    "display(T)\n",
    "display(T.evalf(3))"
   ]
  },
  {
   "cell_type": "markdown",
   "metadata": {},
   "source": [
    "**Problem 2**"
   ]
  },
  {
   "cell_type": "code",
   "execution_count": null,
   "metadata": {},
   "outputs": [
    {
     "name": "stdout",
     "output_type": "stream",
     "text": [
      "Denavit-Hartenberg parameters:\n"
     ]
    },
    {
     "data": {
      "text/latex": [
       "$\\displaystyle \\left[\\begin{matrix}\\theta_{1}{\\left(t \\right)} & 100 & 0 & \\frac{\\pi}{2}\\\\\\frac{\\pi}{2} & d_{2}{\\left(t \\right)} & 0 & \\frac{\\pi}{2}\\\\\\theta_{3}{\\left(t \\right)} & 0 & 60 & \\frac{\\pi}{2}\\\\\\theta_{4}{\\left(t \\right)} & 0 & 0 & \\frac{\\pi}{2}\\end{matrix}\\right]$"
      ],
      "text/plain": [
       "Matrix([\n",
       "[theta1(t),   100,  0, pi/2],\n",
       "[     pi/2, d2(t),  0, pi/2],\n",
       "[theta3(t),     0, 60, pi/2],\n",
       "[theta4(t),     0,  0, pi/2]])"
      ]
     },
     "metadata": {},
     "output_type": "display_data"
    },
    {
     "name": "stdout",
     "output_type": "stream",
     "text": [
      "Transformation matrix with: theta1, d2, theta3, theta4 = [0.75*pi, 200, pi/4, -pi/3]\n"
     ]
    },
    {
     "data": {
      "text/latex": [
       "$\\displaystyle \\left[\\begin{matrix}0.8624 & -0.5 & -0.07946 & 171.4\\\\-0.3624 & -0.5 & -0.7866 & 171.4\\\\0.3536 & 0.7071 & -0.6124 & 142.4\\\\0 & 0 & 0 & 1.0\\end{matrix}\\right]$"
      ],
      "text/plain": [
       "Matrix([\n",
       "[ 0.8624,   -0.5, -0.07946, 171.4],\n",
       "[-0.3624,   -0.5,  -0.7866, 171.4],\n",
       "[ 0.3536, 0.7071,  -0.6124, 142.4],\n",
       "[      0,      0,        0,   1.0]])"
      ]
     },
     "metadata": {},
     "output_type": "display_data"
    },
    {
     "name": "stdout",
     "output_type": "stream",
     "text": [
      "Jacobian matrix:\n"
     ]
    },
    {
     "data": {
      "text/latex": [
       "$\\displaystyle \\left[\\begin{matrix}-171.4 & 30.0 & 30.0 & 0\\\\171.4 & -30.0 & 30.0 & 0\\\\0 & 0 & -42.43 & 0\\\\0 & 0.7071 & -0.7071 & -0.5\\\\0 & 0.7071 & 0.7071 & -0.5\\\\1.0 & 0 & 0 & 0.7071\\end{matrix}\\right]$"
      ],
      "text/plain": [
       "Matrix([\n",
       "[-171.4,   30.0,    30.0,      0],\n",
       "[ 171.4,  -30.0,    30.0,      0],\n",
       "[     0,      0,  -42.43,      0],\n",
       "[     0, 0.7071, -0.7071,   -0.5],\n",
       "[     0, 0.7071,  0.7071,   -0.5],\n",
       "[   1.0,      0,       0, 0.7071]])"
      ]
     },
     "metadata": {},
     "output_type": "display_data"
    },
    {
     "name": "stdout",
     "output_type": "stream",
     "text": [
      "Linear and angular velocity [vx,vy,vz,wx,wy,wz]:\n"
     ]
    },
    {
     "data": {
      "text/latex": [
       "$\\displaystyle \\left[\\begin{matrix}-1.346\\\\1.346\\\\0\\\\0\\\\0\\\\0.007854\\end{matrix}\\right]$"
      ],
      "text/plain": [
       "Matrix([\n",
       "[  -1.346],\n",
       "[   1.346],\n",
       "[       0],\n",
       "[       0],\n",
       "[       0],\n",
       "[0.007854]])"
      ]
     },
     "metadata": {},
     "output_type": "display_data"
    }
   ],
   "source": [
    "%reset -f\n",
    "from functions import *\n",
    "\n",
    "t = sp.symbols('t', real = True, positive = True)\n",
    "theta1, d2, theta3, theta4 = [sp.Function(name)(t) for name in ['theta1', 'd2', 'theta3', 'theta4']]\n",
    "\n",
    "DH_list = [[theta1,100,0,pi/2],\n",
    "           [pi/2,d2,0,pi/2],\n",
    "           [theta3,0,60,pi/2],\n",
    "           [theta4,0,0,pi/2]]\n",
    "\n",
    "print('Denavit-Hartenberg parameters:')\n",
    "display(sp.Matrix(DH_list))\n",
    "\n",
    "values = {theta1:135/180*pi, d2:200, theta3:pi/4, theta4:-pi/3}\n",
    "\n",
    "T = transformation_from_denavit_hartenberg(DH_list)\n",
    "print(f\"Transformation matrix with: theta1, d2, theta3, theta4 = {list(values.values())}\")\n",
    "display(T.evalf(4,subs=values))\n",
    "\n",
    "Jacobian = Jacobian_from_denavit_hartenberg(DH_list)\n",
    "print('Jacobian matrix:')\n",
    "display(Jacobian.evalf(4,subs=values))\n",
    "\n",
    "q_dot = sp.Matrix([0.0025*pi , 0 , 0 , 0])\n",
    "v_omega = Jacobian*q_dot\n",
    "print('Linear and angular velocity [vx,vy,vz,wx,wy,wz]:')\n",
    "display(v_omega.evalf(4,subs=values))"
   ]
  },
  {
   "cell_type": "markdown",
   "metadata": {},
   "source": [
    "**Problem 3**"
   ]
  },
  {
   "cell_type": "code",
   "execution_count": 38,
   "metadata": {},
   "outputs": [
    {
     "name": "stdout",
     "output_type": "stream",
     "text": [
      "Jerk:\n"
     ]
    },
    {
     "data": {
      "text/latex": [
       "$\\displaystyle \\frac{2 \\pi a_{max} \\cos{\\left(\\frac{2 \\pi t}{t_{a}} \\right)}}{t_{a}}$"
      ],
      "text/plain": [
       "2*pi*a_max*cos(2*pi*t/t_a)/t_a"
      ]
     },
     "metadata": {},
     "output_type": "display_data"
    },
    {
     "name": "stdout",
     "output_type": "stream",
     "text": [
      "Acceleration:\n"
     ]
    },
    {
     "data": {
      "text/latex": [
       "$\\displaystyle a_{max} \\sin{\\left(\\frac{2 \\pi t}{t_{a}} \\right)}$"
      ],
      "text/plain": [
       "a_max*sin(2*pi*t/t_a)"
      ]
     },
     "metadata": {},
     "output_type": "display_data"
    },
    {
     "name": "stdout",
     "output_type": "stream",
     "text": [
      "Velocity:\n"
     ]
    },
    {
     "data": {
      "text/latex": [
       "$\\displaystyle - \\frac{a_{max} t_{a} \\cos{\\left(\\frac{2 \\pi t}{t_{a}} \\right)}}{2 \\pi} + \\frac{a_{max} t_{a}}{2 \\pi}$"
      ],
      "text/plain": [
       "-a_max*t_a*cos(2*pi*t/t_a)/(2*pi) + a_max*t_a/(2*pi)"
      ]
     },
     "metadata": {},
     "output_type": "display_data"
    },
    {
     "name": "stdout",
     "output_type": "stream",
     "text": [
      "Position:\n"
     ]
    },
    {
     "data": {
      "text/latex": [
       "$\\displaystyle \\frac{a_{max} t t_{a}}{2 \\pi} - \\frac{a_{max} t_{a}^{2} \\sin{\\left(\\frac{2 \\pi t}{t_{a}} \\right)}}{4 \\pi^{2}}$"
      ],
      "text/plain": [
       "a_max*t*t_a/(2*pi) - a_max*t_a**2*sin(2*pi*t/t_a)/(4*pi**2)"
      ]
     },
     "metadata": {},
     "output_type": "display_data"
    },
    {
     "name": "stdout",
     "output_type": "stream",
     "text": [
      "\n",
      "Acceleration and time to reach a distance of 0.03 m:\n"
     ]
    },
    {
     "data": {
      "text/latex": [
       "$\\displaystyle 0.0138546263500235$"
      ],
      "text/plain": [
       "0.0138546263500235"
      ]
     },
     "metadata": {},
     "output_type": "display_data"
    },
    {
     "data": {
      "image/png": "[encoded data removed]",
      "text/plain": [
       "<Figure size 640x480 with 1 Axes>"
      ]
     },
     "metadata": {},
     "output_type": "display_data"
    },
    {
     "data": {
      "image/png": "[encoded data removed]",
      "text/plain": [
       "<Figure size 640x480 with 1 Axes>"
      ]
     },
     "metadata": {},
     "output_type": "display_data"
    }
   ],
   "source": [
    "%reset -f\n",
    "from functions import *\n",
    "\n",
    "a_max= sp.symbols('a_max', real = True)\n",
    "t_a = sp.symbols('t_a', real = True, positive = True)\n",
    "\n",
    "C1, C2 = sp.symbols('C1 C2', real = True)\n",
    "\n",
    "t = sp.symbols('t', real = True, positive = True)\n",
    "a = a_max*sp.sin(2*sp.pi*t/t_a)\n",
    "j = a.diff(t)\n",
    "v = a.integrate(t) + C1\n",
    "x = v.integrate(t) + C2\n",
    "\n",
    "C1_val = sp.solve(v.subs(t,0)-0,C1)[0]\n",
    "C2_val = sp.solve(x.subs(t,0)-0,C2)[0]\n",
    "\n",
    "v = v.subs({C1:C1_val,C2:C2_val})\n",
    "x = x.subs({C1:C1_val,C2:C2_val})\n",
    "\n",
    "print(\"Jerk:\")\n",
    "display(j)\n",
    "print(\"Acceleration:\")\n",
    "display(a)\n",
    "print(\"Velocity:\")\n",
    "display(v.subs(C1,C1_val))\n",
    "print(\"Position:\")\n",
    "display(x)\n",
    "\n",
    "s_a = 0.03\n",
    "\n",
    "eq1 = sp.Eq(x.subs(t,t_a),s_a)\n",
    "eq2 = sp.Eq(a_max , 100*9.82)\n",
    "a_max_sol, t_a_sol = sp.solve([eq1,eq2],(a_max,t_a))[0]\n",
    "\n",
    "print(f\"\\nAcceleration and time to reach a distance of {s_a} m:\")\n",
    "display(t_a_sol)\n",
    "\n",
    "p1 = sp.plot(( v.subs({a_max:a_max_sol,t_a:t_a_sol}) , (t,0,t_a_sol) ), show=True)\n",
    "p2 = sp.plot(( x.subs({a_max:a_max_sol,t_a:t_a_sol}) , (t,0,t_a_sol) ), show=True)\n",
    "\n"
   ]
  },
  {
   "cell_type": "markdown",
   "metadata": {},
   "source": [
    "**Problem 4**"
   ]
  },
  {
   "cell_type": "code",
   "execution_count": 45,
   "metadata": {},
   "outputs": [
    {
     "name": "stdout",
     "output_type": "stream",
     "text": [
      "Transformation matrix:\n"
     ]
    },
    {
     "data": {
      "text/latex": [
       "$\\displaystyle \\left[\\begin{matrix}0.921 & -0.3896 & 0 & 0.25\\\\0.3896 & 0.921 & 0 & 0.25\\\\0 & 0 & 1.0 & 0.15\\\\0 & 0 & 0 & 1.0\\end{matrix}\\right]$"
      ],
      "text/plain": [
       "Matrix([\n",
       "[ 0.921, -0.3896,   0, 0.25],\n",
       "[0.3896,   0.921,   0, 0.25],\n",
       "[     0,       0, 1.0, 0.15],\n",
       "[     0,       0,   0,  1.0]])"
      ]
     },
     "metadata": {},
     "output_type": "display_data"
    },
    {
     "name": "stdout",
     "output_type": "stream",
     "text": [
      "Transformation matrix:\n"
     ]
    },
    {
     "data": {
      "text/latex": [
       "$\\displaystyle \\left[\\begin{matrix}0.995 & -0.1 & 0 & 0.4\\\\0.1 & 0.995 & 0 & 0.2\\\\0 & 0 & 1.0 & 0.15\\\\0 & 0 & 0 & 1.0\\end{matrix}\\right]$"
      ],
      "text/plain": [
       "Matrix([\n",
       "[0.995,  -0.1,   0,  0.4],\n",
       "[  0.1, 0.995,   0,  0.2],\n",
       "[    0,     0, 1.0, 0.15],\n",
       "[    0,     0,   0,  1.0]])"
      ]
     },
     "metadata": {},
     "output_type": "display_data"
    }
   ],
   "source": [
    "%reset -f\n",
    "from functions import *\n",
    "\n",
    "\n",
    "def transformation_matrix_from_3_points(P0, Px, Py):\n",
    "    # P0: The origin, Px: A point on the x-axis, Py: A point in the xy-plane\n",
    "    x = (Px - P0).normalized()\n",
    "    y = (Py - P0).normalized()\n",
    "\n",
    "    T = sp.eye(4)\n",
    "    T[:3,0] = x\n",
    "    T[:3,2] = x.cross(y).normalized()\n",
    "    T[:3,1] = T[:3,2].cross(x)\n",
    "    T[:3,3] = P0\n",
    "    return T.evalf(4)\n",
    "\n",
    "P0 = sp.Matrix([0.2500, 0.2500, 0.150])\n",
    "Px = sp.Matrix([0.4526, 0.3357, 0.150])\n",
    "Py = sp.Matrix([0.0942, 0.6184, 0.150])\n",
    "\n",
    "T1 = transformation_matrix_from_3_points(P0, Px, Py)\n",
    "print(\"Transformation matrix:\")\n",
    "display(T1)\n",
    "\n",
    "P0 = sp.Matrix([0.4000, 0.2000, 0.150])\n",
    "Px = sp.Matrix([0.6388, 0.2240, 0.150])\n",
    "Py = sp.Matrix([0.5321, 0.2903, 0.150])\n",
    "\n",
    "T2 = transformation_matrix_from_3_points(P0, Px, Py)\n",
    "print(\"Transformation matrix:\")\n",
    "display(T2)\n",
    "\n"
   ]
  },
  {
   "cell_type": "code",
   "execution_count": null,
   "metadata": {},
   "outputs": [
    {
     "data": {
      "text/latex": [
       "$\\displaystyle \\left[\\begin{matrix}0.05 t_{1}\\\\0\\\\t_{1}\\\\1\\end{matrix}\\right]$"
      ],
      "text/plain": [
       "Matrix([\n",
       "[0.05*t1],\n",
       "[      0],\n",
       "[     t1],\n",
       "[      1]])"
      ]
     },
     "metadata": {},
     "output_type": "display_data"
    },
    {
     "data": {
      "text/latex": [
       "$\\displaystyle \\left[\\begin{matrix}0.1 - 0.05 t_{2}\\\\0\\\\t_{2}\\\\1\\end{matrix}\\right]$"
      ],
      "text/plain": [
       "Matrix([\n",
       "[0.1 - 0.05*t2],\n",
       "[            0],\n",
       "[           t2],\n",
       "[            1]])"
      ]
     },
     "metadata": {},
     "output_type": "display_data"
    },
    {
     "data": {
      "image/png": "[encoded data removed]",
      "text/plain": [
       "<Figure size 640x480 with 1 Axes>"
      ]
     },
     "metadata": {},
     "output_type": "display_data"
    },
    {
     "data": {
      "text/latex": [
       "$\\displaystyle \\left[\\begin{matrix}0.45\\\\0.2\\\\0\\\\1\\end{matrix}\\right]$"
      ],
      "text/plain": [
       "Matrix([\n",
       "[0.45],\n",
       "[ 0.2],\n",
       "[   0],\n",
       "[   1]])"
      ]
     },
     "metadata": {},
     "output_type": "display_data"
    }
   ],
   "source": [
    "%reset -f\n",
    "from functions import *\n",
    "x, y, z = sp.symbols('x y z', real = True)\n",
    "t1, t2 = sp.symbols('t1 t2', real = True)\n",
    "\n",
    "lamb = 1\n",
    "B = 0.1\n",
    "\n",
    "T12 = sp.eye(4)\n",
    "T12[0,3] = B\n",
    "\n",
    "oc1 = sp.Matrix([0 , 0 , 0,1])\n",
    "oc2 = T12 * sp.Matrix([0 , 0 , 0 , 1])\n",
    "\n",
    "uv1 = sp.Matrix([0.05 , 0 , 1, 1])\n",
    "uv2 = T12*sp.Matrix([-0.05 , 0 , 1, 1])\n",
    "\n",
    "#uv1[2] = sp.sqrt(lamb**2 - uv1[0]**2 - uv1[1]**2)\n",
    "#uv2[2] = sp.sqrt(lamb**2 - uv2[0]**2 - uv2[1]**2)\n",
    "\n",
    "line1 = oc1 + t1*(uv1 - oc1)\n",
    "line2 = oc2 + t2*(uv2 - oc2)\n",
    "\n",
    "sol = sp.solve(line1-line2, [t1,t2])\n",
    "display(line1)\n",
    "display(line2)\n",
    "\n",
    "p1 = sp.plot((line1[0],(t1,0,1)), show=False)\n",
    "p2 = sp.plot((line2[0],(t2,0,1)), show=False)\n",
    "p1.extend(p2)\n",
    "p1.show()\n",
    "\n",
    "\n",
    "Tb1 = sp.Matrix([[1,0,0,0.4],\n",
    "                  [0,-1,0,0.2],\n",
    "                  [0,0,-1,1],\n",
    "                  [0,0,0,1]])\n",
    "Pb = Tb1*line1.subs(sol)\n",
    "display(Pb)\n"
   ]
  },
  {
   "cell_type": "markdown",
   "metadata": {},
   "source": [
    "**Problem 5**"
   ]
  },
  {
   "attachments": {
    "image.png": {
     "image/png": "[encoded data removed]"
    }
   },
   "cell_type": "markdown",
   "metadata": {},
   "source": [
    "![image.png](attachment:image.png)"
   ]
  },
  {
   "cell_type": "code",
   "execution_count": 105,
   "metadata": {},
   "outputs": [
    {
     "data": {
      "text/latex": [
       "$\\displaystyle \\frac{G K q_{star} \\tau_{m} - G \\tau_{l}}{G K \\tau_{m} + 1}$"
      ],
      "text/plain": [
       "(G*K*q_star*tau_m - G*tau_l)/(G*K*tau_m + 1)"
      ]
     },
     "metadata": {},
     "output_type": "display_data"
    }
   ],
   "source": [
    "%reset -f\n",
    "from functions import *\n",
    "\n",
    "s = sp.symbols('s')\n",
    "tau_l, tau_m, q_star, q, K, G = sp.symbols('tau_l tau_m q_star q K G')\n",
    "x1, x2 = sp.symbols('x1 x2')\n",
    "\n",
    "#G = 1/(0.2*s**2+0.8*s)\n",
    "#kp, ki = 0.5, 0.1\n",
    "#K = kp + ki/s\n",
    "\n",
    "eq1 = sp.Eq(x1 , q_star - q)\n",
    "eq2 = sp.Eq(x2 , x1*K*tau_m - tau_l)\n",
    "eq3 = sp.Eq(q , G*x2)\n",
    "\n",
    "sol = sp.solve([eq1,eq2,eq3],(x1,x2,q))\n",
    "display(sol[q])"
   ]
  }
 ],
 "metadata": {
  "kernelspec": {
   "display_name": "main",
   "language": "python",
   "name": "python3"
  },
  "language_info": {
   "codemirror_mode": {
    "name": "ipython",
    "version": 3
   },
   "file_extension": ".py",
   "mimetype": "text/x-python",
   "name": "python",
   "nbconvert_exporter": "python",
   "pygments_lexer": "ipython3",
   "version": "3.13.0"
  }
 },
 "nbformat": 4,
 "nbformat_minor": 2
}
